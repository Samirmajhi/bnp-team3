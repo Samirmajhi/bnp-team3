{
 "cells": [
  {
   "cell_type": "code",
   "execution_count": null,
   "metadata": {},
   "outputs": [],
   "source": []
  },
  {
   "cell_type": "code",
   "execution_count": 1,
   "metadata": {},
   "outputs": [],
   "source": [
    "import pandas as pd\n",
    "import numpy as np\n",
    "\n",
    "# Load datasets\n",
    "fundamentals = pd.read_csv(\"fundamentals.csv\")\n",
    "prices = pd.read_csv(\"prices-split-adjusted.csv\")\n",
    "securities = pd.read_csv(\"securities.csv\")"
   ]
  },
  {
   "cell_type": "code",
   "execution_count": 3,
   "metadata": {},
   "outputs": [
    {
     "name": "stderr",
     "output_type": "stream",
     "text": [
      "C:\\Users\\Nikkhil_Bisht\\AppData\\Local\\Temp\\ipykernel_22124\\3179632717.py:2: UserWarning: Parsing dates in %d-%m-%Y format when dayfirst=False (the default) was specified. Pass `dayfirst=True` or specify a format to silence this warning.\n",
      "  fundamentals['date'] = pd.to_datetime(fundamentals['date'])\n"
     ]
    }
   ],
   "source": [
    "# Ensure latest data for each company in fundamentals based on Period Ending\n",
    "fundamentals['date'] = pd.to_datetime(fundamentals['date'])\n",
    "fundamentals = fundamentals.sort_values('date').drop_duplicates(subset='Ticker Symbol', keep='last')\n",
    "\n",
    "# Ensure latest stock price for each company in prices based on date\n",
    "prices['date'] = pd.to_datetime(prices['date'])\n",
    "latest_prices = prices.groupby('symbol')['date'].max().reset_index()  # Get the latest date for each symbol\n",
    "latest_prices = pd.merge(prices, latest_prices, on=['symbol', 'date'], how='inner')  # Merge to keep only latest rows\n",
    "\n",
    "# Merge fundamentals with latest stock prices\n",
    "merged_df = fundamentals.merge(latest_prices[['symbol', 'close']], left_on='Ticker Symbol', right_on='symbol', how='inner')\n",
    "\n",
    "# Compute Market Cap (Market Cap = Shares Outstanding * Close Price)\n",
    "merged_df[\"Market Cap\"] = merged_df[\"Estimated Shares Outstanding\"] * merged_df[\"close\"]\n",
    "\n",
    "# Calculate Financial Ratios\n",
    "merged_df['D/E Ratio'] = merged_df['Total Liabilities'] / merged_df['Total Equity']\n",
    "merged_df['P/E Ratio'] = merged_df[\"Market Cap\"] / merged_df['Earnings Per Share']\n",
    "merged_df.dropna(inplace=True)\n"
   ]
  },
  {
   "cell_type": "code",
   "execution_count": 4,
   "metadata": {},
   "outputs": [],
   "source": [
    "# Normalize Values\n",
    "def normalize(series):\n",
    "    return (series - series.min()) / (series.max() - series.min())\n",
    "\n",
    "merged_df['W_EPS'] = normalize(merged_df['Earnings Per Share'])\n",
    "merged_df['W_PE'] = 1 - normalize(merged_df['P/E Ratio'])  # Lower P/E is better\n",
    "merged_df['W_DE'] = 1 - normalize(merged_df['D/E Ratio'])  # Lower D/E is better\n",
    "\n",
    "# Simulated CIBIL Score (as API integration is required)\n",
    "merged_df['W_CIBIL'] = np.random.uniform(700, 900, merged_df.shape[0]) / 900  # Normalize to [0,1]\n",
    "\n",
    "# Compute Final Weight Score\n",
    "merged_df['Index Score'] = (\n",
    "    0.35 * normalize(merged_df['Market Cap']) +\n",
    "    0.20 * merged_df['W_CIBIL'] +\n",
    "    0.15 * merged_df['W_EPS'] +\n",
    "    0.15 * merged_df['W_PE'] +\n",
    "    0.15 * merged_df['W_DE']\n",
    ")"
   ]
  },
  {
   "cell_type": "code",
   "execution_count": 6,
   "metadata": {},
   "outputs": [
    {
     "name": "stdout",
     "output_type": "stream",
     "text": [
      "Top 10 Companies by Index Score:\n",
      "     Ticker Symbol  Index Score\n",
      "311          AAPL     0.750633\n",
      "290          MSFT     0.627764\n",
      "179           XOM     0.568177\n",
      "257           CRM     0.513099\n",
      "258           WMT     0.507622\n",
      "122           CVX     0.502424\n",
      "253            HD     0.497522\n",
      "102             T     0.493175\n",
      "172          PCLN     0.483059\n",
      "114            VZ     0.479481\n"
     ]
    }
   ],
   "source": [
    "# Select top n companies\n",
    "n = 10\n",
    "top_n_companies = merged_df.nlargest(n, 'Index Score')\n",
    "print(\"Top\", n, \"Companies by Index Score:\\n\", top_n_companies[['Ticker Symbol', 'Index Score']])\n"
   ]
  },
  {
   "cell_type": "code",
   "execution_count": 7,
   "metadata": {},
   "outputs": [],
   "source": [
    "# Calculate CAGR for each company in the top N companies\n",
    "def calculate_cagr(ticker):\n",
    "    # Get the historical stock prices for the company\n",
    "    company_data = prices[prices['symbol'] == ticker].sort_values(by='date')\n",
    "    \n",
    "    # Get initial and final values\n",
    "    initial_price = company_data.iloc[0]['close']\n",
    "    final_price = company_data.iloc[-1]['close']\n",
    "    \n",
    "    # Calculate the number of years between initial and final period\n",
    "    initial_year = pd.to_datetime(company_data.iloc[0]['date']).year\n",
    "    final_year = pd.to_datetime(company_data.iloc[-1]['date']).year\n",
    "    num_years = final_year - initial_year\n",
    "    \n",
    "    # Calculate CAGR\n",
    "    if num_years > 0:\n",
    "        cagr = (final_price / initial_price) ** (1 / num_years) - 1\n",
    "    else:\n",
    "        cagr = 0  # If no years, assume no growth\n",
    "    \n",
    "    return cagr"
   ]
  },
  {
   "cell_type": "code",
   "execution_count": 8,
   "metadata": {},
   "outputs": [
    {
     "name": "stdout",
     "output_type": "stream",
     "text": [
      "\n",
      "Expected Mutual Fund Return in 1 year(s): 29.48%\n"
     ]
    },
    {
     "name": "stderr",
     "output_type": "stream",
     "text": [
      "C:\\Users\\Nikkhil_Bisht\\AppData\\Local\\Temp\\ipykernel_22124\\149396554.py:6: SettingWithCopyWarning: \n",
      "A value is trying to be set on a copy of a slice from a DataFrame.\n",
      "Try using .loc[row_indexer,col_indexer] = value instead\n",
      "\n",
      "See the caveats in the documentation: https://pandas.pydata.org/pandas-docs/stable/user_guide/indexing.html#returning-a-view-versus-a-copy\n",
      "  top_n_prices['CAGR'] = top_n_prices['symbol'].apply(calculate_cagr)\n",
      "C:\\Users\\Nikkhil_Bisht\\AppData\\Local\\Temp\\ipykernel_22124\\149396554.py:9: SettingWithCopyWarning: \n",
      "A value is trying to be set on a copy of a slice from a DataFrame.\n",
      "Try using .loc[row_indexer,col_indexer] = value instead\n",
      "\n",
      "See the caveats in the documentation: https://pandas.pydata.org/pandas-docs/stable/user_guide/indexing.html#returning-a-view-versus-a-copy\n",
      "  top_n_prices['Future Price'] = top_n_prices['close'] * (1 + top_n_prices['CAGR']) ** years\n"
     ]
    }
   ],
   "source": [
    "# Get the top N companies\n",
    "top_n_prices = latest_prices[latest_prices['symbol'].isin(top_n_companies['Ticker Symbol'])]\n",
    "\n",
    "# Simulate future prices using CAGR for each top N company\n",
    "years = 1  # 1-year projection\n",
    "top_n_prices['CAGR'] = top_n_prices['symbol'].apply(calculate_cagr)\n",
    "\n",
    "# Simulate future price for each company using its own CAGR\n",
    "top_n_prices['Future Price'] = top_n_prices['close'] * (1 + top_n_prices['CAGR']) ** years\n",
    "\n",
    "# Mutual Fund Profit Estimation\n",
    "mutual_fund_value_now = top_n_prices['close'].mean()\n",
    "mutual_fund_value_future = top_n_prices['Future Price'].mean()\n",
    "expected_return = ((mutual_fund_value_future / mutual_fund_value_now) - 1) * 100\n",
    "\n",
    "print(f\"\\nExpected Mutual Fund Return in {years} year(s): {expected_return:.2f}%\")\n"
   ]
  },
  {
   "cell_type": "markdown",
   "metadata": {},
   "source": []
  }
 ],
 "metadata": {
  "kernelspec": {
   "display_name": "Python 3",
   "language": "python",
   "name": "python3"
  },
  "language_info": {
   "codemirror_mode": {
    "name": "ipython",
    "version": 3
   },
   "file_extension": ".py",
   "mimetype": "text/x-python",
   "name": "python",
   "nbconvert_exporter": "python",
   "pygments_lexer": "ipython3",
   "version": "3.12.2"
  }
 },
 "nbformat": 4,
 "nbformat_minor": 2
}
